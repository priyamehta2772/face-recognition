{
 "cells": [
  {
   "cell_type": "markdown",
   "metadata": {},
   "source": [
    "# Importing Libraries"
   ]
  },
  {
   "cell_type": "code",
   "execution_count": 1,
   "metadata": {},
   "outputs": [],
   "source": [
    "import pandas as pd\n",
    "import os\n",
    "import dlib\n",
    "import cv2\n",
    "from imutils import face_utils\n",
    "import re\n",
    "from collections import OrderedDict\n",
    "import numpy as np\n",
    "import math\n",
    "from sklearn import svm"
   ]
  },
  {
   "cell_type": "markdown",
   "metadata": {},
   "source": [
    "# Read dataset"
   ]
  },
  {
   "cell_type": "code",
   "execution_count": 2,
   "metadata": {},
   "outputs": [],
   "source": [
    "def atoi(text):\n",
    "    if text.isdigit():\n",
    "        return int(text) \n",
    "    else:\n",
    "        return text\n",
    "\n",
    "def natural_keys(text):\n",
    "    l=[]\n",
    "    for c in re.split('(\\d+)', text):\n",
    "       l.append(atoi(c))     \n",
    "    return(l)    \n",
    "\n",
    "dataset_path = \"faces\"\n",
    "file_list = os.listdir(dataset_path)\n",
    "file_list = [x for x in file_list if re.search(\"^.*pgm$\", x)]\n",
    "file_list.sort(key = natural_keys)\n",
    "\n",
    "def get_subject_name(subject):\n",
    "    if subject < 10:\n",
    "        subject = \"0\" + str(subject)\n",
    "    else:\n",
    "        subject = str(subject)\n",
    "    return subject\n",
    "\n",
    "def get_subject_images(subject, file_list):\n",
    "    return [x for x in file_list if re.search(\"^.*\" + subject + \".*pgm$\", x)]"
   ]
  },
  {
   "cell_type": "markdown",
   "metadata": {},
   "source": [
    "# Euclidean Distance"
   ]
  },
  {
   "cell_type": "code",
   "execution_count": 3,
   "metadata": {},
   "outputs": [],
   "source": [
    "def euclidean_distance(x, y):\n",
    "    return math.sqrt(sum([(a - b) ** 2 for a, b in zip(x, y)]))"
   ]
  },
  {
   "cell_type": "markdown",
   "metadata": {},
   "source": [
    "# Initializing Variables"
   ]
  },
  {
   "cell_type": "code",
   "execution_count": 4,
   "metadata": {},
   "outputs": [],
   "source": [
    "predictor_path = \"shape_predictor_68_face_landmarks.dat\"\n",
    "\n",
    "detector = dlib.get_frontal_face_detector()\n",
    "predictor = dlib.shape_predictor(predictor_path)\n",
    "\n",
    "FACIAL_LANDMARKS_IDXS = OrderedDict([\n",
    "\t(\"mouth\", (48, 68)),\n",
    "\t(\"right_eyebrow\", (17, 22)),\n",
    "\t(\"left_eyebrow\", (22, 27)),\n",
    "\t(\"right_eye\", (36, 42)),\n",
    "\t(\"left_eye\", (42, 48)),\n",
    "\t(\"nose\", (27, 35)),\n",
    "\t(\"jaw\", (0, 17))\n",
    "])\n",
    "\n",
    "split = 8\n",
    "Train = np.zeros((15 * split,68)) \n",
    "Test = np.zeros((15 * (11-split),68)) # Matrix of distances\n",
    "\n",
    "train = 0\n",
    "test = 0\n",
    "train_target = np.zeros((15 * split,1))\n",
    "test_target = np.zeros((15 * (11-split),1))\n",
    "target_index = 0\n",
    "test_target_index = 0\n",
    "indices = [5, 0, 8, 7, 10, 4, 9, 1, 2, 6, 3]\n",
    "\n",
    "rep_landmarks = list()"
   ]
  },
  {
   "cell_type": "markdown",
   "metadata": {},
   "source": [
    "# Train and Test split"
   ]
  },
  {
   "cell_type": "code",
   "execution_count": 5,
   "metadata": {},
   "outputs": [],
   "source": [
    "for subject in range(1, 16):\n",
    "    \n",
    "    subject_landmarks = []\n",
    "    if subject < 10:\n",
    "        subject = \"0\" + str(subject)\n",
    "    else:\n",
    "        subject = str(subject)\n",
    "        \n",
    "    images_list = [x for x in file_list if re.search(\"^.*\" + subject + \".*pgm$\", x)]\n",
    "    images_list = [images_list[i] for i in indices]\n",
    "\n",
    "    for image_name in images_list:\n",
    "        image_path = dataset_path + \"\\\\\" + image_name\n",
    "        image = cv2.imread(image_path,-1)\n",
    "\n",
    "        faces = detector(image, 1)\n",
    "        for i, face in enumerate(faces):\n",
    "            shape = predictor(image, face)\n",
    "            shape = face_utils.shape_to_np(shape)\n",
    "                \n",
    "        representative_landmark = [ sum([point[0] for point in shape]) / 68, sum([point[1] for point in shape]) / 68]\n",
    "        distances = [0] * 68\n",
    "        for (name, (i,j)) in face_utils.FACIAL_LANDMARKS_IDXS.items():\n",
    "            index = i\n",
    "            for (x, y) in shape[i:j]:\n",
    "                distances[index] = euclidean_distance(representative_landmark, (x,y))\n",
    "                index += 1\n",
    "        if images_list.index(image_name) < split:\n",
    "            Train[train,:] = distances\n",
    "            train_target[target_index] = int(image_name[7:9])\n",
    "            target_index += 1\n",
    "            train += 1\n",
    "        else:\n",
    "            Test[test,:] = distances\n",
    "            test_target[test_target_index] = int(image_name[7:9])\n",
    "            test_target_index += 1\n",
    "            test += 1"
   ]
  },
  {
   "cell_type": "markdown",
   "metadata": {},
   "source": [
    "# Classification"
   ]
  },
  {
   "cell_type": "code",
   "execution_count": 6,
   "metadata": {},
   "outputs": [],
   "source": [
    "Train = np.append(Train, train_target, axis=1)\n",
    "#print(Train.shape)\n",
    "\n",
    "trainset_df = pd.DataFrame(data=Train, index=[x for x in range(120)], columns=[x for x in range(69)])\n",
    "#print(trainset_df)\n",
    "X_train = trainset_df.iloc[:,list(range(0,68))]\n",
    "y_train = trainset_df.iloc[:, 68]\n",
    "\n",
    "clf = svm.SVC(kernel = \"poly\", C=1.0, gamma='scale')\n",
    "clf.fit(X_train, y_train)\n",
    "\n",
    "testset_df = pd.DataFrame(data=Test, index=[x for x in range(45)], columns=[x for x in range(68)])\n",
    "y_pred = clf.predict(testset_df)"
   ]
  },
  {
   "cell_type": "markdown",
   "metadata": {},
   "source": [
    "# Result"
   ]
  },
  {
   "cell_type": "code",
   "execution_count": 7,
   "metadata": {},
   "outputs": [
    {
     "name": "stdout",
     "output_type": "stream",
     "text": [
      "88.8888888889 -> [5, 0, 8, 7, 10, 4, 9, 1, 2, 6, 3]\n"
     ]
    }
   ],
   "source": [
    "from sklearn.metrics import accuracy_score\n",
    "print(accuracy_score(test_target, y_pred) * 100, \"->\", indices)"
   ]
  },
  {
   "cell_type": "code",
   "execution_count": null,
   "metadata": {},
   "outputs": [],
   "source": []
  }
 ],
 "metadata": {
  "kernelspec": {
   "display_name": "Python 3",
   "language": "python",
   "name": "python3"
  },
  "language_info": {
   "codemirror_mode": {
    "name": "ipython",
    "version": 3
   },
   "file_extension": ".py",
   "mimetype": "text/x-python",
   "name": "python",
   "nbconvert_exporter": "python",
   "pygments_lexer": "ipython3",
   "version": "3.6.7"
  }
 },
 "nbformat": 4,
 "nbformat_minor": 2
}
