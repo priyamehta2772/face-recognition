{
 "cells": [
  {
   "cell_type": "markdown",
   "metadata": {},
   "source": [
    "## Importing libraries"
   ]
  },
  {
   "cell_type": "code",
   "execution_count": 1,
   "metadata": {},
   "outputs": [],
   "source": [
    "import os\n",
    "import dlib\n",
    "import re\n",
    "from imutils import face_utils\n",
    "import cv2"
   ]
  },
  {
   "cell_type": "markdown",
   "metadata": {},
   "source": [
    "## Setting path variables"
   ]
  },
  {
   "cell_type": "code",
   "execution_count": 5,
   "metadata": {},
   "outputs": [],
   "source": [
    "predictor_path = \"shape_predictor_68_face_landmarks.dat\"\n",
    "path = \"jaffe\"\n",
    "new_folder_path = \"detected_faces\\\\\"\n",
    "\n",
    "def atoi(text):\n",
    "    if text.isdigit():\n",
    "        return int(text) \n",
    "    else:\n",
    "        return text\n",
    "\n",
    "def natural_keys(text):\n",
    "    l=[]\n",
    "    for c in re.split('(\\d+)', text):\n",
    "       l.append(atoi(c))     \n",
    "    return(l)    \n",
    "\n",
    "folders_list=os.listdir(path)"
   ]
  },
  {
   "cell_type": "markdown",
   "metadata": {},
   "source": [
    "## Creating objects for detector and predictor\n",
    "\n",
    "detector - used for detecting face in an image<br>\n",
    "predictor - used for extracting landmarks from detected face"
   ]
  },
  {
   "cell_type": "code",
   "execution_count": 6,
   "metadata": {},
   "outputs": [],
   "source": [
    "detector = dlib.get_frontal_face_detector()\n",
    "predictor = dlib.shape_predictor(predictor_path)"
   ]
  },
  {
   "cell_type": "code",
   "execution_count": 7,
   "metadata": {},
   "outputs": [],
   "source": [
    "for folder in folders_list: \n",
    "    folder_path = os.path.join(path, folder)\n",
    "    faces_in_path = os.listdir(folder_path)\n",
    "    faces_in_path.sort(key=natural_keys)\n",
    "    \n",
    "    new_emotion_path = new_folder_path + folder\n",
    "    if not os.path.exists(new_emotion_path):\n",
    "        os.makedirs(new_emotion_path)\n",
    "\n",
    "    image_count = 0\n",
    "    for face_file in faces_in_path:\n",
    "        if image_count < 22:\n",
    "            image_path = os.path.join(folder_path, face_file)\n",
    "            image = cv2.imread(image_path,-1)\n",
    "            image_count += 1\n",
    "            faces = detector(image, 1)\n",
    "\n",
    "            for i, face in enumerate(faces):\n",
    "                shape = predictor(image, face)\n",
    "                (x, y, w, h) = face_utils.rect_to_bb(face)\n",
    "                cv2.rectangle(image, (x, y), (x + w, y + h), (0, 255, 0), 2)\n",
    "                shape = face_utils.shape_to_np(shape)\n",
    "                for (x, y) in shape:\n",
    "                    cv2.circle(image, (x, y), 1, (0, 0, 255), -1)\n",
    "                cv2.imwrite(new_emotion_path + \"\\\\\" + face_file, image)\n",
    "        else:\n",
    "            break"
   ]
  },
  {
   "cell_type": "code",
   "execution_count": null,
   "metadata": {},
   "outputs": [],
   "source": []
  }
 ],
 "metadata": {
  "kernelspec": {
   "display_name": "Python [conda env:deep-learning]",
   "language": "python",
   "name": "conda-env-deep-learning-py"
  },
  "language_info": {
   "codemirror_mode": {
    "name": "ipython",
    "version": 3
   },
   "file_extension": ".py",
   "mimetype": "text/x-python",
   "name": "python",
   "nbconvert_exporter": "python",
   "pygments_lexer": "ipython3",
   "version": "3.6.7"
  }
 },
 "nbformat": 4,
 "nbformat_minor": 2
}
