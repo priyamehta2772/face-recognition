{
 "cells": [
  {
   "cell_type": "markdown",
   "metadata": {},
   "source": [
    "# Importing Libraries"
   ]
  },
  {
   "cell_type": "code",
   "execution_count": 15,
   "metadata": {},
   "outputs": [],
   "source": [
    "import os\n",
    "import dlib\n",
    "import cv2\n",
    "from imutils import face_utils\n",
    "import re\n",
    "import numpy as np\n",
    "import math"
   ]
  },
  {
   "cell_type": "markdown",
   "metadata": {},
   "source": [
    "# Read dataset"
   ]
  },
  {
   "cell_type": "code",
   "execution_count": 16,
   "metadata": {},
   "outputs": [],
   "source": [
    "def atoi(text):\n",
    "    if text.isdigit():\n",
    "        return int(text) \n",
    "    else:\n",
    "        return text\n",
    "\n",
    "def natural_keys(text):\n",
    "    l=[]\n",
    "    for c in re.split('(\\d+)', text):\n",
    "       l.append(atoi(c))     \n",
    "    return(l)    \n",
    "\n",
    "dataset_path = \"faces\"\n",
    "file_list = os.listdir(dataset_path)\n",
    "file_list = [x for x in file_list if re.search(\"^.*pgm$\", x)]\n",
    "file_list.sort(key = natural_keys)\n",
    "\n",
    "def get_subject_name(subject):\n",
    "    if subject < 10:\n",
    "        subject = \"0\" + str(subject)\n",
    "    else:\n",
    "        subject = str(subject)\n",
    "    return subject\n",
    "\n",
    "def get_subject_images(subject, file_list):\n",
    "    return [x for x in file_list if re.search(\"^.*\" + subject + \".*pgm$\", x)]"
   ]
  },
  {
   "cell_type": "markdown",
   "metadata": {},
   "source": [
    "# Euclidean Distance"
   ]
  },
  {
   "cell_type": "code",
   "execution_count": 17,
   "metadata": {},
   "outputs": [],
   "source": [
    "def euclidean_distance(x, y):\n",
    "    return math.sqrt(sum([(a - b) ** 2 for a, b in zip(x, y)]))"
   ]
  },
  {
   "cell_type": "markdown",
   "metadata": {},
   "source": [
    "# Initializing Variables"
   ]
  },
  {
   "cell_type": "code",
   "execution_count": 18,
   "metadata": {},
   "outputs": [],
   "source": [
    "indices = [2, 0, 8, 7, 10, 4, 9, 1, 5, 6, 3]\n",
    "\n",
    "split = 8\n",
    "no_of_classes = 15\n",
    "images_per_subject = 11\n",
    "no_of_landmarks =  68\n",
    "\n",
    "predictor_path = \"shape_predictor_68_face_landmarks.dat\"\n"
   ]
  },
  {
   "cell_type": "markdown",
   "metadata": {},
   "source": [
    "# Retrieving dlib's detector and predictor"
   ]
  },
  {
   "cell_type": "code",
   "execution_count": 10,
   "metadata": {},
   "outputs": [],
   "source": [
    "detector = dlib.get_frontal_face_detector()\n",
    "predictor = dlib.shape_predictor(predictor_path)"
   ]
  },
  {
   "cell_type": "markdown",
   "metadata": {},
   "source": [
    "# Train and Test split"
   ]
  },
  {
   "cell_type": "code",
   "execution_count": 11,
   "metadata": {},
   "outputs": [],
   "source": [
    "Train = np.zeros((no_of_classes * split, 2))\n",
    "Test = np.zeros((no_of_classes * (images_per_subject - split), 2))\n",
    "train = 0\n",
    "test = 0\n",
    "for subject in range(1, no_of_classes + 1):\n",
    "    \n",
    "    subject = get_subject_name(subject)\n",
    "    subject_landmarks = []\n",
    "    images_list = get_subject_images(subject, file_list)\n",
    "    images_list = [images_list[i] for i in indices]\n",
    "    for image_name in images_list:\n",
    "    \n",
    "        image_path = dataset_path + \"\\\\\" + image_name\n",
    "        image = cv2.imread(image_path,-1)\n",
    "        faces_in_image = detector(image, 1)\n",
    "        \n",
    "        for i, face in enumerate(faces_in_image):\n",
    "            shape = predictor(image, face)\n",
    "            shape = face_utils.shape_to_np(shape)\n",
    "                \n",
    "        representative_landmark = [ sum([point[0] for point in shape]) / 68, sum([point[1] for point in shape]) / 68]\n",
    "        \n",
    "        if images_list.index(image_name) < split:\n",
    "            Train[train,:] = representative_landmark\n",
    "            train += 1\n",
    "        else:\n",
    "            Test[test,:] = representative_landmark\n",
    "            test += 1"
   ]
  },
  {
   "cell_type": "markdown",
   "metadata": {},
   "source": [
    "# Classification"
   ]
  },
  {
   "cell_type": "code",
   "execution_count": 12,
   "metadata": {},
   "outputs": [],
   "source": [
    "count = 0\n",
    "img_count = 0\n",
    "for test_landmark in Test:\n",
    "    img_count += 1\n",
    "    distances = []\n",
    "    for subject_landmark in Train:\n",
    "        dist = euclidean_distance(subject_landmark, test_landmark)\n",
    "        distances.append(dist)\n",
    "    \n",
    "    if int(img_count//3) == int(distances.index(min(distances)) // split):\n",
    "        count +=  1"
   ]
  },
  {
   "cell_type": "markdown",
   "metadata": {},
   "source": [
    "# Result"
   ]
  },
  {
   "cell_type": "code",
   "execution_count": 13,
   "metadata": {},
   "outputs": [
    {
     "name": "stdout",
     "output_type": "stream",
     "text": [
      "Accuracy: 33.333333333333336  %\n"
     ]
    }
   ],
   "source": [
    "print(\"Accuracy:\",count*100/img_count, \" %\") "
   ]
  }
 ],
 "metadata": {
  "kernelspec": {
   "display_name": "Python [conda env:deep-learning]",
   "language": "python",
   "name": "conda-env-deep-learning-py"
  },
  "language_info": {
   "codemirror_mode": {
    "name": "ipython",
    "version": 3
   },
   "file_extension": ".py",
   "mimetype": "text/x-python",
   "name": "python",
   "nbconvert_exporter": "python",
   "pygments_lexer": "ipython3",
   "version": "3.6.8"
  }
 },
 "nbformat": 4,
 "nbformat_minor": 2
}
