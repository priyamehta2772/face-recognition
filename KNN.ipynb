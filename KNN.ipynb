{
 "cells": [
  {
   "cell_type": "markdown",
   "metadata": {},
   "source": [
    "# Importing libraries"
   ]
  },
  {
   "cell_type": "code",
   "execution_count": 3,
   "metadata": {},
   "outputs": [],
   "source": [
    "import random\n",
    "import os\n",
    "import dlib\n",
    "import cv2\n",
    "from imutils import face_utils\n",
    "import re\n",
    "import numpy as np\n",
    "import math"
   ]
  },
  {
   "cell_type": "markdown",
   "metadata": {},
   "source": [
    "# Calculate Euclidean Distance"
   ]
  },
  {
   "cell_type": "code",
   "execution_count": 4,
   "metadata": {},
   "outputs": [],
   "source": [
    "def euclidean_distance(x, y):\n",
    "    return math.sqrt(sum([(a - b) ** 2 for a, b in zip(x, y)]))"
   ]
  },
  {
   "cell_type": "markdown",
   "metadata": {},
   "source": [
    "# Reading files in dataset"
   ]
  },
  {
   "cell_type": "code",
   "execution_count": 6,
   "metadata": {},
   "outputs": [],
   "source": [
    "def atoi(text):\n",
    "    if text.isdigit():\n",
    "        return int(text) \n",
    "    else:\n",
    "        return text"
   ]
  },
  {
   "cell_type": "code",
   "execution_count": 8,
   "metadata": {},
   "outputs": [],
   "source": [
    "def natural_keys(text):\n",
    "    l=[]\n",
    "    for c in re.split('(\\d+)', text):\n",
    "       l.append(atoi(c))     \n",
    "    return(l)"
   ]
  },
  {
   "cell_type": "code",
   "execution_count": 9,
   "metadata": {},
   "outputs": [],
   "source": [
    "def get_subject_name(subject):\n",
    "    if subject < 10:\n",
    "        subject = \"0\" + str(subject)\n",
    "    else:\n",
    "        subject = str(subject)\n",
    "    return subject"
   ]
  },
  {
   "cell_type": "code",
   "execution_count": 10,
   "metadata": {},
   "outputs": [],
   "source": [
    "def get_subject_images(subject, file_list):\n",
    "    return [x for x in file_list if re.search(\"^.*\" + subject + \".*pgm$\", x)]"
   ]
  },
  {
   "cell_type": "markdown",
   "metadata": {},
   "source": [
    "# Setup Detector and Predictor"
   ]
  },
  {
   "cell_type": "code",
   "execution_count": 11,
   "metadata": {},
   "outputs": [],
   "source": [
    "predictor_path = \"C:\\\\Users\\\\priya\\\\Anaconda3\\\\shape_predictor_68_face_landmarks.dat\"\n",
    "dataset_path = \"C:\\\\Users\\\\priya\\\\Anaconda3\\\\YALE\\\\faces\""
   ]
  },
  {
   "cell_type": "code",
   "execution_count": 12,
   "metadata": {},
   "outputs": [],
   "source": [
    "file_list = os.listdir(dataset_path)\n",
    "file_list = [x for x in file_list if re.search(\"^.*pgm$\", x)]\n",
    "file_list.sort(key = natural_keys)\n",
    "\n",
    "detector = dlib.get_frontal_face_detector()\n",
    "predictor = dlib.shape_predictor(predictor_path)"
   ]
  },
  {
   "cell_type": "code",
   "execution_count": 13,
   "metadata": {},
   "outputs": [],
   "source": [
    "#indices = list(range(11))\n",
    "#random.shuffle(indices)\n",
    "indices = [9, 2, 3, 10, 5, 6, 0, 7, 8, 4, 1]"
   ]
  },
  {
   "cell_type": "markdown",
   "metadata": {},
   "source": [
    "# Spliting into Train and Test set"
   ]
  },
  {
   "cell_type": "code",
   "execution_count": 14,
   "metadata": {},
   "outputs": [],
   "source": [
    "split = 8\n",
    "Train = np.zeros((15 * split, 2))\n",
    "Test = np.zeros((15 * (11 - split), 2))\n",
    "train = 0\n",
    "test = 0"
   ]
  },
  {
   "cell_type": "markdown",
   "metadata": {},
   "source": [
    "# Obtaining Representative Landmark"
   ]
  },
  {
   "cell_type": "code",
   "execution_count": 15,
   "metadata": {},
   "outputs": [],
   "source": [
    "for subject in range(1, 16):\n",
    "    \n",
    "    subject = get_subject_name(subject)\n",
    "    subject_landmarks = []\n",
    "    images_list = get_subject_images(subject, file_list)\n",
    "    images_list = [images_list[i] for i in indices]\n",
    "    for image_name in images_list:\n",
    "    \n",
    "        image_path = dataset_path + \"\\\\\" + image_name\n",
    "        image = cv2.imread(image_path,-1)\n",
    "        faces_in_image = detector(image, 1)\n",
    "        \n",
    "        for i, face in enumerate(faces_in_image):\n",
    "            shape = predictor(image, face)\n",
    "            shape = face_utils.shape_to_np(shape)\n",
    "                \n",
    "        representative_landmark = [ sum([point[0] for point in shape]) / 68, sum([point[1] for point in shape]) / 68]\n",
    "        \n",
    "        if images_list.index(image_name) < split:\n",
    "            Train[train,:] = representative_landmark\n",
    "            train += 1\n",
    "        else:\n",
    "            Test[test,:] = representative_landmark\n",
    "            test += 1"
   ]
  },
  {
   "cell_type": "markdown",
   "metadata": {},
   "source": [
    "# Comparing Representative Landmark"
   ]
  },
  {
   "cell_type": "code",
   "execution_count": 16,
   "metadata": {},
   "outputs": [],
   "source": [
    "count = 0\n",
    "img_count = 0\n",
    "for test_landmark in Test:\n",
    "    img_count += 1\n",
    "    distances = []\n",
    "    for subject_landmark in Train:\n",
    "        dist = euclidean_distance(subject_landmark, test_landmark)\n",
    "        distances.append(dist)\n",
    "    \n",
    "    if int(img_count//3) == int(distances.index(min(distances)) // split):\n",
    "        count +=  1"
   ]
  },
  {
   "cell_type": "code",
   "execution_count": 19,
   "metadata": {},
   "outputs": [
    {
     "name": "stdout",
     "output_type": "stream",
     "text": [
      "42.22222222222222 -> [9, 2, 3, 10, 5, 6, 0, 7, 8, 4, 1]\n"
     ]
    }
   ],
   "source": [
    "print(count*100/img_count, \"->\", indices)"
   ]
  },
  {
   "cell_type": "markdown",
   "metadata": {},
   "source": [
    "# Acuuracy for different "
   ]
  },
  {
   "cell_type": "code",
   "execution_count": 20,
   "metadata": {},
   "outputs": [
    {
     "data": {
      "text/plain": [
       "'\\n    Accuracy            Train images combination\\n28.88888888888889 -> [2, 3, 1, 9, 5, 6, 0, 8, 7, 10, 4]\\n35.55555555555556 -> [3, 4, 5, 10, 6, 8, 9, 7, 2, 1, 0]\\n26.666666666666668 -> [8, 9, 1, 0, 10, 6, 5, 4, 7, 3, 2]\\n42.22222222222222 -> [9, 2, 3, 10, 5, 6, 0, 7, 8, 4, 1]\\n40.0 -> [10, 0, 5, 3, 6, 8, 9, 2, 1, 4, 7]\\n26.666666666666668 -> [5, 2, 10, 1, 7, 6, 4, 3, 0, 9, 8]\\n31.11111111111111 -> [5, 8, 1, 0, 3, 6, 2, 10, 9, 4, 7]\\n'"
      ]
     },
     "execution_count": 20,
     "metadata": {},
     "output_type": "execute_result"
    }
   ],
   "source": [
    "\"\"\"\n",
    "    Accuracy            Train images combination\n",
    "28.88888888888889 -> [2, 3, 1, 9, 5, 6, 0, 8, 7, 10, 4]\n",
    "35.55555555555556 -> [3, 4, 5, 10, 6, 8, 9, 7, 2, 1, 0]\n",
    "26.666666666666668 -> [8, 9, 1, 0, 10, 6, 5, 4, 7, 3, 2]\n",
    "42.22222222222222 -> [9, 2, 3, 10, 5, 6, 0, 7, 8, 4, 1]\n",
    "40.0 -> [10, 0, 5, 3, 6, 8, 9, 2, 1, 4, 7]\n",
    "26.666666666666668 -> [5, 2, 10, 1, 7, 6, 4, 3, 0, 9, 8]\n",
    "31.11111111111111 -> [5, 8, 1, 0, 3, 6, 2, 10, 9, 4, 7]\n",
    "\"\"\""
   ]
  }
 ],
 "metadata": {
  "kernelspec": {
   "display_name": "Python 3",
   "language": "python",
   "name": "python3"
  },
  "language_info": {
   "codemirror_mode": {
    "name": "ipython",
    "version": 3
   },
   "file_extension": ".py",
   "mimetype": "text/x-python",
   "name": "python",
   "nbconvert_exporter": "python",
   "pygments_lexer": "ipython3",
   "version": "3.6.7"
  }
 },
 "nbformat": 4,
 "nbformat_minor": 2
}
