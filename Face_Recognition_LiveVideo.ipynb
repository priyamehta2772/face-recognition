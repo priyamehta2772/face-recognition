{
 "cells": [
  {
   "cell_type": "markdown",
   "metadata": {},
   "source": [
    "# Importing Libraries"
   ]
  },
  {
   "cell_type": "code",
   "execution_count": 1,
   "metadata": {},
   "outputs": [],
   "source": [
    "import os\n",
    "import dlib\n",
    "import cv2\n",
    "from imutils import face_utils\n",
    "import re\n",
    "from collections import OrderedDict\n",
    "import numpy as np\n",
    "import math"
   ]
  },
  {
   "cell_type": "markdown",
   "metadata": {},
   "source": [
    "# Dataset path formatting functions"
   ]
  },
  {
   "cell_type": "code",
   "execution_count": 2,
   "metadata": {},
   "outputs": [],
   "source": [
    "def filter_pgm(dataset_path):\n",
    "    file_list = os.listdir(dataset_path)\n",
    "    file_list = [x for x in file_list if re.search(\"^.*pgm$\", x)]\n",
    "    file_list.sort(key=natural_keys)\n",
    "    return file_list\n",
    "\n",
    "def atoi(text):\n",
    "    if text.isdigit():\n",
    "        return int(text) \n",
    "    else:\n",
    "        return text\n",
    "\n",
    "def natural_keys(text):\n",
    "    l=[]\n",
    "    for c in re.split('(\\d+)', text):\n",
    "       l.append(atoi(c))     \n",
    "    return(l)    "
   ]
  },
  {
   "cell_type": "markdown",
   "metadata": {},
   "source": [
    "# Dataset variables"
   ]
  },
  {
   "cell_type": "code",
   "execution_count": 3,
   "metadata": {},
   "outputs": [],
   "source": [
    "no_of_classes = 15\n",
    "images_per_class = 11\n",
    "no_of_landmarks =  68\n",
    "dataset_path = \"faces\""
   ]
  },
  {
   "cell_type": "markdown",
   "metadata": {},
   "source": [
    "# Facial Landmarks Indices"
   ]
  },
  {
   "cell_type": "code",
   "execution_count": 4,
   "metadata": {},
   "outputs": [],
   "source": [
    "FACIAL_LANDMARKS_IDXS = OrderedDict([\n",
    "\t(\"mouth\", (48, 68)),\n",
    "\t(\"right_eyebrow\", (17, 22)),\n",
    "\t(\"left_eyebrow\", (22, 27)),\n",
    "\t(\"right_eye\", (36, 42)),\n",
    "\t(\"left_eye\", (42, 48)),\n",
    "\t(\"nose\", (27, 35)),\n",
    "\t(\"jaw\", (0, 17))\n",
    "    ])"
   ]
  },
  {
   "cell_type": "markdown",
   "metadata": {},
   "source": [
    "# Euclidean Distance Metric"
   ]
  },
  {
   "cell_type": "code",
   "execution_count": 5,
   "metadata": {},
   "outputs": [],
   "source": [
    "def euclidean_distance(x, y):\n",
    "    return math.sqrt(sum([(a - b) ** 2 for a, b in zip(x, y)]))"
   ]
  },
  {
   "cell_type": "markdown",
   "metadata": {},
   "source": [
    "# Face Recognizer"
   ]
  },
  {
   "cell_type": "code",
   "execution_count": 6,
   "metadata": {},
   "outputs": [],
   "source": [
    "def recognizer(Train, test_image_distances ):\n",
    "    Train_diff = np.zeros((no_of_classes * images_per_class, no_of_landmarks))\n",
    "        \n",
    "    for index in range(len(Train)):\n",
    "        Train_diff[index,:] = list(map(abs, np.subtract(Train[index], np.asarray(test_image_distances))))\n",
    "    \n",
    "    Train_diff_means = [0] * (no_of_classes * images_per_class)\n",
    "    for index in range(len(Train_diff)):\n",
    "        Train_diff_means[index] = np.mean(Train_diff[index])\n",
    "    \n",
    "    return int(Train_diff_means.index(min(Train_diff_means)) // images_per_class) + 1"
   ]
  },
  {
   "cell_type": "markdown",
   "metadata": {},
   "source": [
    "# dlib's detector and predictor"
   ]
  },
  {
   "cell_type": "code",
   "execution_count": 7,
   "metadata": {},
   "outputs": [],
   "source": [
    "detector = dlib.get_frontal_face_detector()\n",
    "predictor = dlib.shape_predictor(\"shape_predictor_68_face_landmarks.dat\")"
   ]
  },
  {
   "cell_type": "markdown",
   "metadata": {},
   "source": [
    "# Getting new subject data"
   ]
  },
  {
   "cell_type": "code",
   "execution_count": 8,
   "metadata": {},
   "outputs": [],
   "source": [
    "no_of_classes += 1"
   ]
  },
  {
   "cell_type": "code",
   "execution_count": 9,
   "metadata": {},
   "outputs": [
    {
     "name": "stdout",
     "output_type": "stream",
     "text": [
      "\n",
      " Enter your name: Priya\n",
      "\n",
      " Initializing face capture. Look the camera and wait ...\n",
      "\n",
      "Exiting\n"
     ]
    }
   ],
   "source": [
    "cam = cv2.VideoCapture(0)\n",
    "cam.set(3, 640) # set video width\n",
    "cam.set(4, 480) # set video height\n",
    "face_name = input('\\n Enter your name: ')\n",
    "\n",
    "face_id = no_of_classes\n",
    "new_labels = {face_id:face_name}\n",
    "\n",
    "print(\"\\n Initializing face capture. Look the camera and wait ...\")\n",
    "count = 97\n",
    "while(True):\n",
    "    ret, img = cam.read()\n",
    "    gray = cv2.cvtColor(img, cv2.COLOR_BGR2GRAY)\n",
    "    faces = detector(img, 1)\n",
    "    for i, face in enumerate(faces):\n",
    "        (x, y, w, h) = face_utils.rect_to_bb(face)\n",
    "        cv2.rectangle(img, (x,y), (x+w,y+h), (255,0,0), 2)     \n",
    "        count += 1\n",
    "        # Save the captured image into the datasets folder\n",
    "        cv2.imwrite(\"faces\\\\subject\" + str(face_id) + '.' + chr(count) + \".pgm\", gray[y:y+h,x:x+w])\n",
    "        cv2.imshow('Image', img)\n",
    "    k = cv2.waitKey(100) & 0xff # Press 'ESC' for exiting video\n",
    "    if k == 27:\n",
    "        break\n",
    "    elif count >= 97 + 11: \n",
    "         break\n",
    "\n",
    "print(\"\\nExiting\")\n",
    "cam.release()\n",
    "cv2.destroyAllWindows()"
   ]
  },
  {
   "cell_type": "markdown",
   "metadata": {},
   "source": [
    "# Extract training features"
   ]
  },
  {
   "cell_type": "code",
   "execution_count": 10,
   "metadata": {},
   "outputs": [
    {
     "name": "stdout",
     "output_type": "stream",
     "text": [
      "I am trained!\n"
     ]
    }
   ],
   "source": [
    "file_list = filter_pgm(dataset_path)\n",
    "\n",
    "Train = np.zeros((no_of_classes * 11, no_of_landmarks))\n",
    "train = 0\n",
    "\n",
    "for subject in range(1, no_of_classes + 1):\n",
    "  \n",
    "    subject_landmarks = []\n",
    "    if len(str(subject)) == 1:\n",
    "        subject = \"0\" + str(subject)\n",
    "    else:\n",
    "        subject = str(subject)\n",
    "        \n",
    "    images_list = [x for x in file_list if re.search(\"^.*\" + subject + \".*pgm$\", x)]\n",
    "    \n",
    "    for image_name in images_list:\n",
    "        image_path = dataset_path + \"\\\\\" + image_name\n",
    "        \n",
    "        image = cv2.imread(image_path,-1)\n",
    "\n",
    "        faces = detector(image, 1)\n",
    "        for i, face in enumerate(faces):\n",
    "            shape = predictor(image, face)\n",
    "            shape = face_utils.shape_to_np(shape)\n",
    "                \n",
    "        representative_landmark = [ sum([point[0] for point in shape]) / no_of_landmarks, sum([point[1] for point in shape]) / no_of_landmarks]\n",
    "        distances = [0] * no_of_landmarks\n",
    "        for (name, (i,j)) in face_utils.FACIAL_LANDMARKS_IDXS.items():\n",
    "            index = i\n",
    "            for (x, y) in shape[i:j]:\n",
    "                distances[index] = euclidean_distance(representative_landmark, (x,y))\n",
    "                index += 1\n",
    "       \n",
    "        Train[train,:] = distances\n",
    "        train += 1\n",
    "print(\"I am trained!\")"
   ]
  },
  {
   "cell_type": "markdown",
   "metadata": {},
   "source": [
    "# Recognize Face"
   ]
  },
  {
   "cell_type": "code",
   "execution_count": 11,
   "metadata": {},
   "outputs": [
    {
     "name": "stdout",
     "output_type": "stream",
     "text": [
      "\n",
      " Exiting Program\n"
     ]
    }
   ],
   "source": [
    "cam = cv2.VideoCapture(0)\n",
    "cam.set(3, 640) # set video width\n",
    "cam.set(4, 480) # set video height\n",
    "\n",
    "font = cv2.FONT_HERSHEY_SIMPLEX\n",
    "\n",
    "id = 0\n",
    "names = [str(number) for number in range(1, face_id + 1)] \n",
    "\n",
    "minW = 0.1*cam.get(3)\n",
    "minH = 0.1*cam.get(4)\n",
    "while True:\n",
    "    ret, img =cam.read()\n",
    "    gray = cv2.cvtColor(img,cv2.COLOR_BGR2GRAY)\n",
    "    \n",
    "    faces = detector(img, 1)\n",
    "    for i, face in enumerate(faces):\n",
    "        (x, y, w, h) = face_utils.rect_to_bb(face)\n",
    "        cv2.rectangle(img, (x,y), (x+w,y+h), (255,0,0), 2)  \n",
    "        test_image = gray[y:y+h,x:x+w]\n",
    "        \n",
    "        faces = detector(test_image, 1)\n",
    "        for i, face in enumerate(faces):\n",
    "            shape = predictor(test_image, face)\n",
    "            shape = face_utils.shape_to_np(shape)\n",
    "                \n",
    "        representative_landmark = [ sum([point[0] for point in shape]) / no_of_landmarks, sum([point[1] for point in shape]) / no_of_landmarks]\n",
    "        test_image_distances = [0] * no_of_landmarks\n",
    "        for (name, (i,j)) in face_utils.FACIAL_LANDMARKS_IDXS.items():\n",
    "            index = i\n",
    "            for (x, y) in shape[i:j]:\n",
    "                test_image_distances[index] = euclidean_distance(representative_landmark, (x,y))\n",
    "                index += 1\n",
    "\n",
    "        id = recognizer(Train, test_image_distances)\n",
    "        \n",
    "        if id in new_labels.keys():\n",
    "            id = new_labels[id]\n",
    "        cv2.putText(img, str(id), (x+5,y-5), font, 1, (255,255,255), 2)\n",
    "    \n",
    "    cv2.imshow('Camera',img) \n",
    "    k = cv2.waitKey(10) & 0xff # Press 'ESC' for exiting video\n",
    "    if k == 27:\n",
    "        break\n",
    "print(\"\\n Exiting Program\")\n",
    "cam.release()\n",
    "cv2.destroyAllWindows()"
   ]
  },
  {
   "cell_type": "code",
   "execution_count": null,
   "metadata": {},
   "outputs": [],
   "source": []
  }
 ],
 "metadata": {
  "kernelspec": {
   "display_name": "Python [conda env:deep-learning]",
   "language": "python",
   "name": "conda-env-deep-learning-py"
  },
  "language_info": {
   "codemirror_mode": {
    "name": "ipython",
    "version": 3
   },
   "file_extension": ".py",
   "mimetype": "text/x-python",
   "name": "python",
   "nbconvert_exporter": "python",
   "pygments_lexer": "ipython3",
   "version": "3.6.8"
  }
 },
 "nbformat": 4,
 "nbformat_minor": 2
}
