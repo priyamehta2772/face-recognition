{
 "cells": [
  {
   "cell_type": "markdown",
   "metadata": {},
   "source": [
    "#  Importing Libraries"
   ]
  },
  {
   "cell_type": "code",
   "execution_count": 7,
   "metadata": {},
   "outputs": [],
   "source": [
    "import os\n",
    "import dlib\n",
    "import cv2\n",
    "from imutils import face_utils\n",
    "import re\n",
    "from collections import OrderedDict\n",
    "import numpy as np\n",
    "import math\n",
    "import random"
   ]
  },
  {
   "cell_type": "markdown",
   "metadata": {},
   "source": [
    "#  Read dataset"
   ]
  },
  {
   "cell_type": "code",
   "execution_count": 3,
   "metadata": {},
   "outputs": [],
   "source": [
    "def filter_pgm(dataset_path):\n",
    "    file_list = os.listdir(dataset_path)\n",
    "    file_list = [x for x in file_list if re.search(\"^.*pgm$\", x)]\n",
    "    file_list.sort(key=natural_keys)\n",
    "    return file_list"
   ]
  },
  {
   "cell_type": "code",
   "execution_count": 5,
   "metadata": {},
   "outputs": [],
   "source": [
    "def atoi(text):\n",
    "    if text.isdigit():\n",
    "        return int(text) \n",
    "    else:\n",
    "        return text"
   ]
  },
  {
   "cell_type": "code",
   "execution_count": 6,
   "metadata": {},
   "outputs": [],
   "source": [
    "def natural_keys(text):\n",
    "    l=[]\n",
    "    for c in re.split('(\\d+)', text):\n",
    "       l.append(atoi(c))     \n",
    "    return(l)    "
   ]
  },
  {
   "cell_type": "markdown",
   "metadata": {},
   "source": [
    "# Euclidean Distance"
   ]
  },
  {
   "cell_type": "code",
   "execution_count": 8,
   "metadata": {},
   "outputs": [],
   "source": [
    "def euclidean_distance(x, y):\n",
    "    return math.sqrt(sum([(a - b) ** 2 for a, b in zip(x, y)]))"
   ]
  },
  {
   "cell_type": "markdown",
   "metadata": {},
   "source": [
    "# Retrieving dlib's detector and predictor"
   ]
  },
  {
   "cell_type": "code",
   "execution_count": 10,
   "metadata": {},
   "outputs": [],
   "source": [
    "predictor_path = \"C:\\\\Users\\\\priya\\\\Anaconda3\\\\shape_predictor_68_face_landmarks.dat\"\n",
    "dataset_path = \"C:\\\\Users\\\\priya\\\\Anaconda3\\\\YALE\\\\faces\"\n",
    "file_list = filter_pgm(dataset_path)\n",
    "detector = dlib.get_frontal_face_detector()\n",
    "predictor = dlib.shape_predictor(predictor_path)\n",
    "\n",
    "FACIAL_LANDMARKS_IDXS = OrderedDict([\n",
    "\t(\"mouth\", (48, 68)),\n",
    "\t(\"right_eyebrow\", (17, 22)),\n",
    "\t(\"left_eyebrow\", (22, 27)),\n",
    "\t(\"right_eye\", (36, 42)),\n",
    "\t(\"left_eye\", (42, 48)),\n",
    "\t(\"nose\", (27, 35)),\n",
    "\t(\"jaw\", (0, 17))\n",
    "    ])"
   ]
  },
  {
   "cell_type": "markdown",
   "metadata": {},
   "source": [
    "# Train and Test split"
   ]
  },
  {
   "cell_type": "code",
   "execution_count": 11,
   "metadata": {},
   "outputs": [],
   "source": [
    "split = 8\n",
    "no_of_classes = 15\n",
    "images_per_class = 11\n",
    "no_of_landmarks =  68\n",
    "\n",
    "Train = np.zeros((no_of_classes * split, no_of_landmarks)) # Matrix of distances\n",
    "Test = np.zeros((no_of_classes * (images_per_class - split), no_of_landmarks))\n",
    "train = 0\n",
    "test = 0\n",
    "rep_landmarks = list()\n",
    "#indices = list(range(11))\n",
    "#random.shuffle(indices)\n",
    "\n",
    "indices = [0, 3, 7, 1, 10, 9, 6, 4, 8, 2, 5]"
   ]
  },
  {
   "cell_type": "markdown",
   "metadata": {},
   "source": [
    "# Classification"
   ]
  },
  {
   "cell_type": "code",
   "execution_count": 12,
   "metadata": {},
   "outputs": [],
   "source": [
    "for subject in range(1, no_of_classes + 1):\n",
    "    \n",
    "    subject_landmarks = []\n",
    "    if len(str(subject)) == 1:\n",
    "        subject = \"0\" + str(subject)\n",
    "    else:\n",
    "        subject = str(subject)\n",
    "        \n",
    "    images_list = [x for x in file_list if re.search(\"^.*\" + subject + \".*pgm$\", x)]\n",
    "    images_list = [images_list[i] for i in indices]\n",
    "\n",
    "    for image_name in images_list:\n",
    "        image_path = dataset_path + \"\\\\\" + image_name\n",
    "        image = cv2.imread(image_path,-1)\n",
    "\n",
    "        faces = detector(image, 1)\n",
    "        for i, face in enumerate(faces):\n",
    "            shape = predictor(image, face)\n",
    "            shape = face_utils.shape_to_np(shape)\n",
    "                \n",
    "        representative_landmark = [ sum([point[0] for point in shape]) / no_of_landmarks, sum([point[1] for point in shape]) / no_of_landmarks]\n",
    "        distances = [0] * no_of_landmarks\n",
    "        for (name, (i,j)) in face_utils.FACIAL_LANDMARKS_IDXS.items():\n",
    "            index = i\n",
    "            for (x, y) in shape[i:j]:\n",
    "                distances[index] = euclidean_distance(representative_landmark, (x,y))\n",
    "                index += 1\n",
    "        if images_list.index(image_name) < split:\n",
    "            Train[train,:] = distances\n",
    "            train += 1\n",
    "        else:\n",
    "            Test[test,:] = distances\n",
    "            test += 1"
   ]
  },
  {
   "cell_type": "code",
   "execution_count": 13,
   "metadata": {},
   "outputs": [],
   "source": [
    "count = 0\n",
    "img_count = 0\n",
    "\n",
    "for test_image_distances in Test:\n",
    "    img_count += 1\n",
    "    Train_diff = np.zeros((no_of_classes * split, no_of_landmarks))\n",
    "        \n",
    "    for index in range(len(Train)):\n",
    "        Train_diff[index,:] = list(map(abs, np.subtract(Train[index], np.asarray(test_image_distances))))\n",
    "    \n",
    "    Train_diff_means = [0] * no_of_classes * split\n",
    "    for index in range(len(Train_diff)):\n",
    "        Train_diff_means[index] = np.mean(Train_diff[index])\n",
    "    \n",
    "    if int(Train_diff_means.index(min(Train_diff_means)) // split) == int((img_count - 1) // (images_per_class - split)):\n",
    "        count += 1"
   ]
  },
  {
   "cell_type": "markdown",
   "metadata": {},
   "source": [
    "# Result"
   ]
  },
  {
   "cell_type": "code",
   "execution_count": 14,
   "metadata": {},
   "outputs": [
    {
     "name": "stdout",
     "output_type": "stream",
     "text": [
      "Accuracy: 93.33333333333333  %\n"
     ]
    }
   ],
   "source": [
    "print(\"Accuracy:\",count*100/img_count, \" %\") "
   ]
  }
 ],
 "metadata": {
  "kernelspec": {
   "display_name": "Python 3",
   "language": "python",
   "name": "python3"
  },
  "language_info": {
   "codemirror_mode": {
    "name": "ipython",
    "version": 3
   },
   "file_extension": ".py",
   "mimetype": "text/x-python",
   "name": "python",
   "nbconvert_exporter": "python",
   "pygments_lexer": "ipython3",
   "version": "3.6.7"
  }
 },
 "nbformat": 4,
 "nbformat_minor": 2
}
