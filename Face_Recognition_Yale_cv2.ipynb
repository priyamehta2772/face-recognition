{
 "cells": [
  {
   "cell_type": "markdown",
   "metadata": {},
   "source": [
    "## Importing libraries"
   ]
  },
  {
   "cell_type": "code",
   "execution_count": 11,
   "metadata": {},
   "outputs": [],
   "source": [
    "import os\n",
    "import dlib\n",
    "import re\n",
    "from imutils import face_utils\n",
    "import cv2"
   ]
  },
  {
   "cell_type": "markdown",
   "metadata": {},
   "source": [
    "## Setting path variables"
   ]
  },
  {
   "cell_type": "code",
   "execution_count": 13,
   "metadata": {},
   "outputs": [],
   "source": [
    "predictor_path = \"shape_predictor_68_face_landmarks.dat\"\n",
    "faces_folder_path = \"faces\"\n",
    "new_folder_path = \"detected_faces\\\\\"\n",
    "\n",
    "def atoi(text):\n",
    "    if text.isdigit():\n",
    "        return int(text) \n",
    "    else:\n",
    "        return text\n",
    "\n",
    "def natural_keys(text):\n",
    "    l=[]\n",
    "    for c in re.split('(\\d+)', text):\n",
    "       l.append(atoi(c))     \n",
    "    return(l)    \n",
    "\n",
    "file_list = os.listdir(faces_folder_path)\n",
    "file_list = [x for x in file_list if re.search(\"^.*pgm$\", x)]\n",
    "file_list.sort(key = natural_keys)\n"
   ]
  },
  {
   "cell_type": "markdown",
   "metadata": {},
   "source": [
    "## Creating objects for detector and predictor\n",
    "\n",
    "detector - used for detecting face in an image<br>\n",
    "predictor - used for extracting landmarks from detected face"
   ]
  },
  {
   "cell_type": "code",
   "execution_count": 14,
   "metadata": {},
   "outputs": [],
   "source": [
    "detector = dlib.get_frontal_face_detector()\n",
    "predictor = dlib.shape_predictor(predictor_path)"
   ]
  },
  {
   "cell_type": "code",
   "execution_count": 15,
   "metadata": {},
   "outputs": [],
   "source": [
    "for subject in range(1, 16):\n",
    "    if subject < 10:\n",
    "        subject = \"0\" + str(subject)\n",
    "    else:\n",
    "        subject = str(subject)\n",
    "    images_list = [x for x in file_list if re.search(\"^.*\" + subject + \".*pgm$\", x)]\n",
    "    subject_path = new_folder_path + str(subject) + \"\\\\\"\n",
    "    if not os.path.exists(subject_path):\n",
    "        os.makedirs(subject_path)\n",
    "\n",
    "    for image_name in images_list:\n",
    "    \n",
    "        image_path = faces_folder_path + \"\\\\\" + image_name\n",
    "        image = cv2.imread(image_path,-1)\n",
    "        #print(image_path)\n",
    "        faces = detector(image, 1)\n",
    "\n",
    "        for i, face in enumerate(faces):\n",
    "            shape = predictor(image, face)\n",
    "            (x, y, w, h) = face_utils.rect_to_bb(face)\n",
    "            cv2.rectangle(image, (x, y), (x + w, y + h), (0, 255, 0), 2)\n",
    "            shape = face_utils.shape_to_np(shape)\n",
    "            for (x, y) in shape:\n",
    "                cv2.circle(image, (x, y), 1, (0, 0, 255), -1)\n",
    "            cv2.imwrite(subject_path + \"\\\\\" + image_name, image)\n",
    "            cv2.imshow(image_name, image)\n",
    "            cv2.waitKey(0)"
   ]
  },
  {
   "cell_type": "code",
   "execution_count": null,
   "metadata": {},
   "outputs": [],
   "source": []
  }
 ],
 "metadata": {
  "kernelspec": {
   "display_name": "Python [conda env:deep-learning]",
   "language": "python",
   "name": "conda-env-deep-learning-py"
  },
  "language_info": {
   "codemirror_mode": {
    "name": "ipython",
    "version": 3
   },
   "file_extension": ".py",
   "mimetype": "text/x-python",
   "name": "python",
   "nbconvert_exporter": "python",
   "pygments_lexer": "ipython3",
   "version": "3.6.7"
  }
 },
 "nbformat": 4,
 "nbformat_minor": 2
}
